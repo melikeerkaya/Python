kelvin = 400  # 400 Kelvin
celsius = kelvin - 273.15  # Kelvin'i Celsius'a çevirme formülü

print(f"{kelvin} Kelvin ısı, {celsius:.2f} Celsius derecesine eşittir.")

400 Kelvin ısı, 126.85 Celsius derecesine eşittir.

yarıçap=1.5
pi=3.14
alan=3.14*1.15**2
alan
4.1526499999999995

sayi = 1234  # Dört basamaklı sayı

ilk= sayi // 1000
son = sayi % 10

toplam = ilk+ son

print(f"{sayi} sayısının ilk ve son basamağının toplamı: {toplam}")
1234 sayısının ilk ve son basamağının toplamı: 5

saat=500/110
dakika=saat*60
print("Yolu saat:{} dakika:{} 'da alır".format(saat, dakika))
Yolu saat:4.545454545454546 dakika:272.72727272727275 'da alır
